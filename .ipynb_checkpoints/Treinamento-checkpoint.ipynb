{
 "cells": [
  {
   "cell_type": "code",
   "execution_count": null,
   "metadata": {},
   "outputs": [],
   "source": [
    "#imports\n",
    "from sklearn.linear_model import SGDClassifier\n",
    "import pandas as pd\n",
    "import cv2"
   ]
  },
  {
   "cell_type": "code",
   "execution_count": null,
   "metadata": {},
   "outputs": [],
   "source": [
    "class Fruits:\n",
    "    def __init__(self):\n",
    "        self.train_images = []\n",
    "        self.train_target = []\n",
    "        self.test_images = []\n",
    "        self.test_target = []\n",
    "    def addfruit(self,fruit_name):\n",
    "        # O nome das imagens era sempre x_100.jpg ou r_x_100.jpg ou r2_x_100.jpg com x entre 0 e 350.\n",
    "        n = 0\n",
    "        m = 0\n",
    "        for c in range(350): #350 foi escolhido pois não havia nenhuma imagem que passasse de 350\n",
    "            \n",
    "            # Train images\n",
    "            \n",
    "            img = cv2.imread('fruits/fruits-360/Training/{0}/{1}_100.jpg'.format(fruit_name,c),0)\n",
    "            img_r = cv2.imread('fruits/fruits-360/Training/{0}/r_{1}_100.jpg'.format(fruit_name,c),0)\n",
    "            img_r2 = cv2.imread('fruits/fruits-360/Training/{0}/r2_{1}_100.jpg'.format(fruit_name,c),0)\n",
    "            if type(img) != type(None): # Alguns valores de x eram pulados, portanto isso limpa os \"None\" da lista\n",
    "                self.train_images.append(img)\n",
    "                n+=1\n",
    "            if type(img_r) != type(None):\n",
    "                self.train_images.append(img_r)\n",
    "                n+=1\n",
    "            if type(img_r2) != type(None):\n",
    "                self.train_images.append(img_r2)\n",
    "                n+=1\n",
    "                \n",
    "            # Test images\n",
    "                \n",
    "            test_img = cv2.imread('fruits/fruits-360/Test/{0}/{1}_100.jpg'.format(fruit_name,c),0)\n",
    "            test_img_r = cv2.imread('fruits/fruits-360/Test/{0}/r_{1}_100.jpg'.format(fruit_name,c),0)\n",
    "            test_img_r2 = cv2.imread('fruits/fruits-360/Test/{0}/r2_{1}_100.jpg'.format(fruit_name,c),0)\n",
    "            if type(test_img) != type(None):\n",
    "                self.test_images.append(test_img)\n",
    "                m+=1\n",
    "            if type(test_img_r) != type(None):\n",
    "                self.test_images.append(test_img_r)\n",
    "                m+=1\n",
    "            if type(test_img_r2) != type(None):\n",
    "                self.test_images.append(test_img_r2)\n",
    "                m+=1\n",
    "                \n",
    "        # Targets\n",
    "                \n",
    "        for c in range(n):\n",
    "            self.train_target.append(fruit_name)\n",
    "        for c in range(m):\n",
    "            self.test_target.append(fruit_name)"
   ]
  },
  {
   "cell_type": "code",
   "execution_count": null,
   "metadata": {},
   "outputs": [],
   "source": [
    "fruits_to_be_added = [\"Lemon\",\"Banana\",\"Cocos\"]"
   ]
  },
  {
   "cell_type": "code",
   "execution_count": null,
   "metadata": {},
   "outputs": [],
   "source": [
    "#treinamento\n",
    "X_train = train_df['Images']\n",
    "y_train = train_df['Target']\n",
    "\n",
    "#teste\n",
    "X_test = test_df['Images']\n",
    "y_test = test_df['Target']"
   ]
  },
  {
   "cell_type": "code",
   "execution_count": null,
   "metadata": {},
   "outputs": [],
   "source": [
    "# checando se a leitura de dados funciona:\n",
    "rand = X_train[800]\n",
    "rand_label = y_train[800]\n",
    "\n",
    "print('label: {}'.format(rand_label))\n",
    "rand_image = rand.reshape(100, 100) \n",
    "#plot\n",
    "plt.imshow(rand_image, cmap=matplotlib.cm.binary, interpolation='nearest')\n",
    "plt.show()"
   ]
  },
  {
   "cell_type": "code",
   "execution_count": null,
   "metadata": {},
   "outputs": [],
   "source": [
    "#shufflelando\n",
    "shuffle_index = np.random.permutation(60000)\n",
    "X_train = X_train[shuffle_index]\n",
    "y_train = y_train[shuffle_index]"
   ]
  },
  {
   "cell_type": "code",
   "execution_count": null,
   "metadata": {},
   "outputs": [],
   "source": [
    "#binaria classification \n",
    "y_train_lemon = (y_train == 'Lemon')\n",
    "y_test_lemon = (y_test == 'Lemon')\n",
    "\n",
    "n = 20 \n",
    "for original, binarized in zip(y_train[:n], y_train_lemon[:n]):\n",
    "    print('{} -> {}'.format(original, binarized))"
   ]
  },
  {
   "cell_type": "code",
   "execution_count": null,
   "metadata": {},
   "outputs": [],
   "source": [
    "#SGDClassifier\n",
    "sgd_clf = SGDClassifier(max_iter=5, tol=None, random_state=RANDOM_SEED)  \n",
    "sgd_clf.fit(X_train, y_train_lemon)\n",
    "sgd_clf.predict([rand])                   \n",
    "           "
   ]
  },
  {
   "cell_type": "code",
   "execution_count": null,
   "metadata": {},
   "outputs": [],
   "source": [
    "#testando a acuracia\n",
    "y_pred = sgd_clf.predict(X_test)\n",
    "print('Acurácia: {}'.format(accuracy_score(y_test_lemon, y_pred)))\n"
   ]
  }
 ],
 "metadata": {
  "kernelspec": {
   "display_name": "Python 3",
   "language": "python",
   "name": "python3"
  },
  "language_info": {
   "codemirror_mode": {
    "name": "ipython",
    "version": 3
   },
   "file_extension": ".py",
   "mimetype": "text/x-python",
   "name": "python",
   "nbconvert_exporter": "python",
   "pygments_lexer": "ipython3",
   "version": "3.6.4"
  }
 },
 "nbformat": 4,
 "nbformat_minor": 2
}
