{
 "cells": [
  {
   "cell_type": "markdown",
   "metadata": {},
   "source": [
    "# Imports"
   ]
  },
  {
   "cell_type": "code",
   "execution_count": 1,
   "metadata": {},
   "outputs": [],
   "source": [
    "import matplotlib.pyplot as plt\n",
    "import matplotlib\n",
    "%matplotlib inline\n",
    "import pylab as pl\n",
    "import random\n",
    "from sklearn import ensemble\n",
    "from sklearn.metrics import accuracy_score\n",
    "import numpy as np\n",
    "import cv2\n",
    "from sklearn.linear_model import SGDClassifier\n",
    "import pickle"
   ]
  },
  {
   "cell_type": "markdown",
   "metadata": {},
   "source": [
    "# Classes e Funções"
   ]
  },
  {
   "cell_type": "code",
   "execution_count": 2,
   "metadata": {},
   "outputs": [],
   "source": [
    "def imgsd(img):\n",
    "    if type(None) != type(img):\n",
    "        bla = cv2.pyrDown(img,dstsize = (50,50))\n",
    "        bla2 = cv2.pyrDown(bla,dstsize = (25,25))\n",
    "        return bla2\n",
    "    return img\n",
    "\n",
    "class Fruits:\n",
    "    def __init__(self):\n",
    "        self.train_images = []\n",
    "        self.train_target = []\n",
    "        self.test_images = []\n",
    "        self.test_target = []\n",
    "    def addfruit(self,fruit_name):\n",
    "        # O nome das imagens era sempre x_100.jpg ou r_x_100.jpg ou r2_x_100.jpg com x entre 0 e 350.\n",
    "        n = 0\n",
    "        m = 0\n",
    "        for c in range(350): #350 foi escolhido pois não havia nenhuma imagem que passasse de 350\n",
    "            \n",
    "            # Train images\n",
    "            \n",
    "            img = imgsd(cv2.imread('fruits/fruits-360/Training/{0}/{1}_100.jpg'.format(fruit_name,c),1))\n",
    "            img_r = imgsd(cv2.imread('fruits/fruits-360/Training/{0}/r_{1}_100.jpg'.format(fruit_name,c),1))\n",
    "            img_r2 = imgsd(cv2.imread('fruits/fruits-360/Training/{0}/r2_{1}_100.jpg'.format(fruit_name,c),1))\n",
    "            if type(img) != type(None): # Alguns valores de x eram pulados, portanto isso limpa os \"None\" da lista\n",
    "                self.train_images.append(img)\n",
    "                n+=1\n",
    "            if type(img_r) != type(None):\n",
    "                self.train_images.append(img_r)\n",
    "                n+=1\n",
    "            if type(img_r2) != type(None):\n",
    "                self.train_images.append(img_r2)\n",
    "                n+=1\n",
    "                \n",
    "            # Test images\n",
    "                \n",
    "            test_img = imgsd(cv2.imread('fruits/fruits-360/Test/{0}/{1}_100.jpg'.format(fruit_name,c),1))\n",
    "            test_img_r = imgsd(cv2.imread('fruits/fruits-360/Test/{0}/r_{1}_100.jpg'.format(fruit_name,c),1))\n",
    "            test_img_r2 = imgsd(cv2.imread('fruits/fruits-360/Test/{0}/r2_{1}_100.jpg'.format(fruit_name,c),1))\n",
    "            if type(test_img) != type(None):\n",
    "                self.test_images.append(test_img)\n",
    "                m+=1\n",
    "            if type(test_img_r) != type(None):\n",
    "                self.test_images.append(test_img_r)\n",
    "                m+=1\n",
    "            if type(test_img_r2) != type(None):\n",
    "                self.test_images.append(test_img_r2)\n",
    "                m+=1\n",
    "                \n",
    "        # Targets\n",
    "                \n",
    "        for c in range(n):\n",
    "            self.train_target.append(fruit_name)\n",
    "        for c in range(m):\n",
    "            self.test_target.append(fruit_name)\n",
    "            "
   ]
  },
  {
   "cell_type": "markdown",
   "metadata": {},
   "source": [
    "# Definindo variáveis"
   ]
  },
  {
   "cell_type": "code",
   "execution_count": null,
   "metadata": {},
   "outputs": [],
   "source": [
    "fruits_to_be_added = [\"Apple Braeburn\", \"Apple Golden 1\", \"Apple Golden 2\", \"Apple Golden 3\", \"Apple Granny Smith\", \"Apple Red 1\", \"Apple Red 2\", \"Apple Red 3\", \"Apple Red Delicious\", \"Apple Red Yellow\", \"Apricot\", \"Avocado\", \"Avocado\", \"Banana\", \"Banana Red\", \"Cactus fruit\", \"Cantaloupe 1\", \"Cantaloupe 2\", \"Carambula\", \"Cherry 1\", \"Cherry 2\", \"Cherry Rainier\", \"Cherry Wax Black\", \"Cherry Wax Red\", \"Cherry Wax Yellow\", \"Clementine\", \"Cocos\", \"Dates\", \"Granadilla\", \"Grapefruit Pink\", \"Grapefruit White\", \"Grape Pink\", \"Grape White\", \"Grape White 2\", \"Guava\", \"Huckleberry\", \"Kaki\", \"Kiwi\", \"Kumquats\", \"Lemon\", \"Lemon Meyer\", \"Limes\", \"Lychee\", \"Mandarine\", \"Mango\", \"Maracuja\", \"Melon Piel de Sapo\", \"Mulberry\", \"Nectarine\", \"Orange\", \"Papaya\", \"Passion Fruit\", \"Peach\", \"Peach Flat\", \"Pear\", \"Pear Abate\", \"Pear Monster\", \"Pear Williams\", \"Pepino\", \"Physalis\", \"Physalis with Husk\", \"Pineapple\", \"Pineapple Mini\", \"Pitahaya Red\", \"Plum\", \"Pomegrabate\", \"Quince\", \"Rambutan\", \"Raspberry\", \"Salak\", \"Strawberry\", \"Tamarillo\", \"Tangelo\", \"Tomato 1\", \"Tomato 2\", \"Tomato 3\", \"Tomato 4\", \"Tomato Cherry Red\", \"Tomato Maroon\", \"Walnut\"]\n",
    "\n",
    "fruits = Fruits()\n",
    "for c in fruits_to_be_added:\n",
    "    fruits.addfruit(c)\n",
    "\n",
    "#treinamento\n",
    "n_samples = len(fruits.train_target)\n",
    "n_samples_test = len(fruits.test_target)\n",
    "\n",
    "X_train = np.array(fruits.train_images).reshape(n_samples,-1)\n",
    "y_train = np.array(fruits.train_target)\n",
    "\n",
    "#teste\n",
    "X_test = np.array(fruits.test_images).reshape(n_samples_test,-1)\n",
    "y_test = np.array(fruits.test_target)\n",
    "\n",
    "#shufflelando\n",
    "shuffle_index = np.random.permutation(len(X_train))\n",
    "X_train = X_train[shuffle_index]\n",
    "y_train = y_train[shuffle_index]"
   ]
  },
  {
   "cell_type": "markdown",
   "metadata": {},
   "source": [
    "# Treinando e salvando o modelo"
   ]
  },
  {
   "cell_type": "code",
   "execution_count": 13,
   "metadata": {},
   "outputs": [
    {
     "data": {
      "text/plain": [
       "\"\\n#binaria classification \\ny_train_lemon = (y_train == 'Lemon')\\ny_test_lemon = (y_test == 'Lemon')\\n\\nn = 10\\nfor original, binarized in zip(y_train[:n], y_train_lemon[:n]):\\n    print('{} -> {}'.format(original, binarized))\\n    \\ny_train_lemon\\n\\n\\n#SGDClassifier\\nsgd_clf = SGDClassifier(max_iter=50, tol=None)#, random_state=RANDOM_SEED)  \\nsgd_clf.fit(X_train, y_train)\\n\\ny_pred_fruits = sgd_clf.predict(X_test)\\n\\nt = 0\\nfor i in range(len(y_test)):\\n    if y_test[i] == y_pred_fruits[i]:\\n        t += 1\\nprint(t/len(y_test))    \\n        \\nprint()      \\n\\n# Saving model\\npickle.dump(sgd_clf, open('fruit_classifier.sav', 'wb'))\\n\""
      ]
     },
     "execution_count": 13,
     "metadata": {},
     "output_type": "execute_result"
    }
   ],
   "source": [
    "'''\n",
    "#binaria classification \n",
    "y_train_lemon = (y_train == 'Lemon')\n",
    "y_test_lemon = (y_test == 'Lemon')\n",
    "\n",
    "n = 10\n",
    "for original, binarized in zip(y_train[:n], y_train_lemon[:n]):\n",
    "    print('{} -> {}'.format(original, binarized))\n",
    "    \n",
    "y_train_lemon\n",
    "\n",
    "\n",
    "#SGDClassifier\n",
    "sgd_clf = SGDClassifier(max_iter=50, tol=None)#, random_state=RANDOM_SEED)  \n",
    "sgd_clf.fit(X_train, y_train)\n",
    "\n",
    "y_pred_fruits = sgd_clf.predict(X_test)\n",
    "\n",
    "t = 0\n",
    "for i in range(len(y_test)):\n",
    "    if y_test[i] == y_pred_fruits[i]:\n",
    "        t += 1\n",
    "print(t/len(y_test))    \n",
    "        \n",
    "print()      \n",
    "\n",
    "# Saving model\n",
    "pickle.dump(sgd_clf, open('fruit_classifier.sav', 'wb'))\n",
    "'''"
   ]
  },
  {
   "cell_type": "markdown",
   "metadata": {},
   "source": [
    "# Carregando o modelo"
   ]
  },
  {
   "cell_type": "code",
   "execution_count": 6,
   "metadata": {},
   "outputs": [],
   "source": [
    "# Loading model\n",
    "fruit_clf = pickle.load(open('fruit_classifier.sav', 'rb'))"
   ]
  },
  {
   "cell_type": "code",
   "execution_count": 7,
   "metadata": {},
   "outputs": [
    {
     "data": {
      "text/plain": [
       "0.8690865813745909"
      ]
     },
     "execution_count": 7,
     "metadata": {},
     "output_type": "execute_result"
    }
   ],
   "source": [
    "# Testing\n",
    "fruit_clf.predict([X_test[12300]])\n",
    "fruit_clf.score(X_test,y_test)"
   ]
  },
  {
   "cell_type": "markdown",
   "metadata": {},
   "source": [
    "# Modelo em prática"
   ]
  },
  {
   "cell_type": "code",
   "execution_count": null,
   "metadata": {},
   "outputs": [],
   "source": [
    "real_test = imgsd(cv2.resize(cv2.imread('test3.jpg',1),(100,100))).reshape(1,-1)\n",
    "\n",
    "fruit_clf.predict(real_test)"
   ]
  },
  {
   "cell_type": "markdown",
   "metadata": {},
   "source": [
    "# Pode ser útil no futuro"
   ]
  },
  {
   "cell_type": "code",
   "execution_count": null,
   "metadata": {},
   "outputs": [
    {
     "name": "stdout",
     "output_type": "stream",
     "text": [
      "Apple Golden 2\n"
     ]
    }
   ],
   "source": [
    "\n",
    "# faz a imagem aparecer em uma janela\n",
    "img = real_test\n",
    "print(fruits.train_target[1000])\n",
    "cv2.imshow('image',img)\n",
    "k = cv2.waitKey(0)\n",
    "if k == 27:         # wait for ESC key to exit\n",
    "    cv2.destroyAllWindows()\n",
    "elif k == ord('s'): # wait for 's' key to save and exit\n",
    "    cv2.imwrite('messigray.png',img)\n",
    "    cv2.destroyAllWindows()\n"
   ]
  },
  {
   "cell_type": "markdown",
   "metadata": {},
   "source": [
    "# Dataset License"
   ]
  },
  {
   "cell_type": "markdown",
   "metadata": {},
   "source": [
    "MIT License\n",
    "\n",
    "Copyright (c) 2017-2018 Mihai Oltean, Horea Muresan\n",
    "\n",
    "Permission is hereby granted, free of charge, to any person obtaining a copy\n",
    "of this software and associated documentation files (the \"Software\"), to deal\n",
    "in the Software without restriction, including without limitation the rights\n",
    "to use, copy, modify, merge, publish, distribute, sublicense, and/or sell\n",
    "copies of the Software, and to permit persons to whom the Software is\n",
    "furnished to do so, subject to the following conditions:\n",
    "\n",
    "The above copyright notice and this permission notice shall be included in all\n",
    "copies or substantial portions of the Software.\n",
    "\n",
    "THE SOFTWARE IS PROVIDED \"AS IS\", WITHOUT WARRANTY OF ANY KIND, EXPRESS OR\n",
    "IMPLIED, INCLUDING BUT NOT LIMITED TO THE WARRANTIES OF MERCHANTABILITY,\n",
    "FITNESS FOR A PARTICULAR PURPOSE AND NONINFRINGEMENT. IN NO EVENT SHALL THE\n",
    "AUTHORS OR COPYRIGHT HOLDERS BE LIABLE FOR ANY CLAIM, DAMAGES OR OTHER\n",
    "LIABILITY, WHETHER IN AN ACTION OF CONTRACT, TORT OR OTHERWISE, ARISING FROM,\n",
    "OUT OF OR IN CONNECTION WITH THE SOFTWARE OR THE USE OR OTHER DEALINGS IN THE\n",
    "SOFTWARE."
   ]
  }
 ],
 "metadata": {
  "kernelspec": {
   "display_name": "Python 3",
   "language": "python",
   "name": "python3"
  },
  "language_info": {
   "codemirror_mode": {
    "name": "ipython",
    "version": 3
   },
   "file_extension": ".py",
   "mimetype": "text/x-python",
   "name": "python",
   "nbconvert_exporter": "python",
   "pygments_lexer": "ipython3",
   "version": "3.6.4"
  }
 },
 "nbformat": 4,
 "nbformat_minor": 2
}
