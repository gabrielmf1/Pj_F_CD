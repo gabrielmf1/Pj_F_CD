{
 "cells": [
  {
   "cell_type": "markdown",
   "metadata": {},
   "source": [
    "# Projeto Machine Learning - Identificador de fruta\n",
    "\n",
    "**Integrantes:** Rafael da Fonte Freire, Victor Vazquez e Gabriel Miras Floriano\n",
    "\n",
    "\n",
    "**Turma:** 2°C"
   ]
  },
  {
   "cell_type": "markdown",
   "metadata": {},
   "source": [
    "# Introdução"
   ]
  },
  {
   "cell_type": "markdown",
   "metadata": {},
   "source": [
    "O projeto objetiva a identificação de frutas por meio de imagem. Sabemos que o reconhecimento pode apresentar problemas por razões de formato e cor da fruta, como por exemplo a maçã, que em nosso dataset apresenta 10 tipos diferentes. Para que a identificação seja possível, treinamos o modelo com um dataset que consite em imagens sintéticas de diversos ângulos, chamado \"Fruit 360\". Esse dataset é composto por imagens organizadas primeiramente em três pastas, uma de treino, que será a base que o programa irá utilizar, constituida por 81 outras pastas, cada uma sendo uma fruta diferente. A segunda pasta é uma base de teste com estrutura semelhante a de treinamento, mas que contém imagens que o programa irá testar a eficiencia. E por fim, a última pasta é de teste multiplo, que é composto por imagens reais em que há um fundo diferente do treino e do teste e que simularia uma situação real."
   ]
  },
  {
   "cell_type": "markdown",
   "metadata": {},
   "source": [
    "# Imports"
   ]
  },
  {
   "cell_type": "code",
   "execution_count": 10,
   "metadata": {},
   "outputs": [],
   "source": [
    "import matplotlib.pyplot as plt\n",
    "import matplotlib\n",
    "%matplotlib inline\n",
    "import pylab as pl\n",
    "import random\n",
    "from sklearn import ensemble\n",
    "from sklearn.metrics import accuracy_score\n",
    "import numpy as np\n",
    "import cv2\n",
    "from sklearn.linear_model import SGDClassifier\n",
    "import pickle"
   ]
  },
  {
   "cell_type": "markdown",
   "metadata": {},
   "source": [
    "# Classes e Funções"
   ]
  },
  {
   "cell_type": "markdown",
   "metadata": {},
   "source": [
    "Para a leitura e abertura dos dados, nós utilizamos o OpenCV, que é a abreviatura de “Open Source Computer Vision Library” que é uma biblioteca multiplataforma utilizada na área óptica computacional.Para que pudessemos organizar de maneira fácil para o acesso nós usamos a estrutura de classes. Para a análise, diminuímos o tamanho da imagem através do método de pirâmide. Esse método é usado geralmente com imagens de tamanhos constantes, que em nosso caso são todas as imagens 100X100. Como estamos tentando identificar o objeto na imagem, criamos outra imagem com resolução diferente da original. Como não sabíamos qual tamanho usar, pedimos ajuda ao professor que nos definiu uma imagem 25X25. Porém tal método apenas consegue dividir a imagem pela metade, então dividimos uma vez, fazendo com que ficasse 50X50, e depois dividimos mais uma vez, no que resultou em uma imagem 25X25, no tamanho que queríamos."
   ]
  },
  {
   "cell_type": "code",
   "execution_count": 11,
   "metadata": {},
   "outputs": [],
   "source": [
    "def imgsd(img):\n",
    "    if type(None) != type(img):\n",
    "        bla = cv2.pyrDown(img,dstsize = (50,50))\n",
    "        bla2 = cv2.pyrDown(bla,dstsize = (25,25))\n",
    "        return bla2\n",
    "    return img\n",
    "\n",
    "class Fruits:\n",
    "    def __init__(self):\n",
    "        self.train_images = []\n",
    "        self.train_target = []\n",
    "        self.test_images  = []\n",
    "        self.test_target  = []\n",
    "    def addfruit(self,fruit_name):\n",
    "        # O nome das imagens era sempre x_100.jpg ou r_x_100.jpg ou r2_x_100.jpg com x entre 0 e 350.\n",
    "        n = 0\n",
    "        m = 0\n",
    "        for c in range(738): #738 foi escolhido pois o numero maximo de fotos era 738\n",
    "            \n",
    "            # Train images\n",
    "            \n",
    "            img    = imgsd(cv2.imread('fruits/fruits-360/Training/{0}/{1}_100.jpg'.format(fruit_name,c),1))\n",
    "            img_r  = imgsd(cv2.imread('fruits/fruits-360/Training/{0}/r_{1}_100.jpg'.format(fruit_name,c),1))\n",
    "            img_r2 = imgsd(cv2.imread('fruits/fruits-360/Training/{0}/r2_{1}_100.jpg'.format(fruit_name,c),1))\n",
    "            if type(img) != type(None): # Alguns valores de x eram pulados, portanto isso limpa os \"None\" da lista\n",
    "                self.train_images.append(img)\n",
    "                n+=1\n",
    "            if type(img_r) != type(None):\n",
    "                self.train_images.append(img_r)\n",
    "                n+=1\n",
    "            if type(img_r2) != type(None):\n",
    "                self.train_images.append(img_r2)\n",
    "                n+=1\n",
    "                \n",
    "            # Test images\n",
    "                \n",
    "            test_img    = imgsd(cv2.imread('fruits/fruits-360/Test/{0}/{1}_100.jpg'.format(fruit_name,c),1))\n",
    "            test_img_r  = imgsd(cv2.imread('fruits/fruits-360/Test/{0}/r_{1}_100.jpg'.format(fruit_name,c),1))\n",
    "            test_img_r2 = imgsd(cv2.imread('fruits/fruits-360/Test/{0}/r2_{1}_100.jpg'.format(fruit_name,c),1))\n",
    "            if type(test_img) != type(None):\n",
    "                self.test_images.append(test_img)\n",
    "                m+=1\n",
    "            if type(test_img_r) != type(None):\n",
    "                self.test_images.append(test_img_r)\n",
    "                m+=1\n",
    "            if type(test_img_r2) != type(None):\n",
    "                self.test_images.append(test_img_r2)\n",
    "                m+=1\n",
    "                \n",
    "        # Targets\n",
    "                \n",
    "        for c in range(n):\n",
    "            self.train_target.append(fruit_name)\n",
    "        for c in range(m):\n",
    "            self.test_target.append(fruit_name)\n",
    "            "
   ]
  },
  {
   "cell_type": "markdown",
   "metadata": {},
   "source": [
    "# Definindo variáveis"
   ]
  },
  {
   "cell_type": "code",
   "execution_count": 12,
   "metadata": {},
   "outputs": [],
   "source": [
    "fruits_to_be_added = [\"Apple Braeburn\", \"Apple Golden 1\", \"Apple Golden 2\", \"Apple Golden 3\", \"Apple Granny Smith\", \"Apple Red 1\", \"Apple Red 2\", \"Apple Red 3\", \"Apple Red Delicious\", \"Apple Red Yellow\", \"Apricot\", \"Avocado\", \"Avocado\", \"Banana\", \"Banana Red\", \"Cactus fruit\", \"Cantaloupe 1\", \"Cantaloupe 2\", \"Carambula\", \"Cherry 1\", \"Cherry 2\", \"Cherry Rainier\", \"Cherry Wax Black\", \"Cherry Wax Red\", \"Cherry Wax Yellow\", \"Clementine\", \"Cocos\", \"Dates\", \"Granadilla\", \"Grapefruit Pink\", \"Grapefruit White\", \"Grape Pink\", \"Grape White\", \"Grape White 2\", \"Guava\", \"Huckleberry\", \"Kaki\", \"Kiwi\", \"Kumquats\", \"Lemon\", \"Lemon Meyer\", \"Limes\", \"Lychee\", \"Mandarine\", \"Mango\", \"Maracuja\", \"Melon Piel de Sapo\", \"Mulberry\", \"Nectarine\", \"Orange\", \"Papaya\", \"Passion Fruit\", \"Peach\", \"Peach Flat\", \"Pear\", \"Pear Abate\", \"Pear Monster\", \"Pear Williams\", \"Pepino\", \"Physalis\", \"Physalis with Husk\", \"Pineapple\", \"Pineapple Mini\", \"Pitahaya Red\", \"Plum\", \"Pomegrabate\", \"Quince\", \"Rambutan\", \"Raspberry\", \"Salak\", \"Strawberry\", \"Tamarillo\", \"Tangelo\", \"Tomato 1\", \"Tomato 2\", \"Tomato 3\", \"Tomato 4\", \"Tomato Cherry Red\", \"Tomato Maroon\", \"Walnut\"]\n",
    "\n",
    "fruits = Fruits()\n",
    "for c in fruits_to_be_added:\n",
    "    fruits.addfruit(c)\n",
    "\n",
    "#treinamento\n",
    "n_samples      = len(fruits.train_target)\n",
    "n_samples_test = len(fruits.test_target)\n",
    "\n",
    "X_train = np.array(fruits.train_images).reshape(n_samples,-1)\n",
    "y_train = np.array(fruits.train_target)\n",
    "\n",
    "#teste\n",
    "X_test = np.array(fruits.test_images).reshape(n_samples_test,-1)\n",
    "y_test = np.array(fruits.test_target)\n",
    "\n",
    "#shufflelando\n",
    "shuffle_index = np.random.permutation(len(X_train))\n",
    "X_train = X_train[shuffle_index]\n",
    "y_train = y_train[shuffle_index]"
   ]
  },
  {
   "cell_type": "markdown",
   "metadata": {},
   "source": [
    "# Treinando e salvando o modelo"
   ]
  },
  {
   "cell_type": "markdown",
   "metadata": {},
   "source": [
    "** Classificação Binária**"
   ]
  },
  {
   "cell_type": "code",
   "execution_count": 13,
   "metadata": {},
   "outputs": [
    {
     "data": {
      "text/plain": [
       "\"\\ny_train_lemon = (y_train == 'Lemon')\\ny_test_lemon = (y_test == 'Lemon')\\nn = 10\\nfor original, binarized in zip(y_train[:n], y_train_lemon[:n]):\\n    print('{} -> {}'.format(original, binarized))\\n    \\ny_train_lemon\\n\""
      ]
     },
     "execution_count": 13,
     "metadata": {},
     "output_type": "execute_result"
    }
   ],
   "source": [
    "'''\n",
    "y_train_lemon = (y_train == 'Lemon')\n",
    "y_test_lemon = (y_test == 'Lemon')\n",
    "n = 10\n",
    "for original, binarized in zip(y_train[:n], y_train_lemon[:n]):\n",
    "    print('{} -> {}'.format(original, binarized))\n",
    "    \n",
    "y_train_lemon\n",
    "'''"
   ]
  },
  {
   "cell_type": "markdown",
   "metadata": {},
   "source": [
    "**SGDClassifier**"
   ]
  },
  {
   "cell_type": "code",
   "execution_count": 14,
   "metadata": {},
   "outputs": [
    {
     "data": {
      "text/plain": [
       "\"\\nsgd_clf = SGDClassifier(max_iter=50, tol=None)#, random_state=RANDOM_SEED)  \\nsgd_clf.fit(X_train, y_train)\\n\\ny_pred_fruits = sgd_clf.predict(X_test)\\n\\nt = 0\\nfor i in range(len(y_test)):\\n    if y_test[i] == y_pred_fruits[i]:\\n        t += 1\\nprint(t/len(y_test))    \\n        \\nprint() \\n#Saving model\\npickle.dump(sgd_clf, open('fruit_classifier.sav', 'wb'))\\n\""
      ]
     },
     "execution_count": 14,
     "metadata": {},
     "output_type": "execute_result"
    }
   ],
   "source": [
    "'''\n",
    "sgd_clf = SGDClassifier(max_iter=50, tol=None)#, random_state=RANDOM_SEED)  \n",
    "sgd_clf.fit(X_train, y_train)\n",
    "\n",
    "y_pred_fruits = sgd_clf.predict(X_test)\n",
    "\n",
    "t = 0\n",
    "for i in range(len(y_test)):\n",
    "    if y_test[i] == y_pred_fruits[i]:\n",
    "        t += 1\n",
    "print(t/len(y_test))    \n",
    "        \n",
    "print() \n",
    "#Saving model\n",
    "pickle.dump(sgd_clf, open('fruit_classifier.sav', 'wb'))\n",
    "'''"
   ]
  },
  {
   "cell_type": "markdown",
   "metadata": {},
   "source": [
    "# Carregando o modelo"
   ]
  },
  {
   "cell_type": "markdown",
   "metadata": {},
   "source": [
    "**Loading model**"
   ]
  },
  {
   "cell_type": "code",
   "execution_count": 15,
   "metadata": {},
   "outputs": [],
   "source": [
    "fruit_clf = pickle.load(open('fruit_classifier.sav', 'rb'))"
   ]
  },
  {
   "cell_type": "markdown",
   "metadata": {},
   "source": [
    "**Testing**"
   ]
  },
  {
   "cell_type": "code",
   "execution_count": 16,
   "metadata": {},
   "outputs": [
    {
     "name": "stdout",
     "output_type": "stream",
     "text": [
      "A acurácia do nosso modelo é de 86.05%\n"
     ]
    }
   ],
   "source": [
    "fruit_clf.predict([X_test[12300]])\n",
    "prob = fruit_clf.score(X_test,y_test)*100\n",
    "print(\"A acurácia do nosso modelo é de {0:.2f}%\".format(prob))"
   ]
  },
  {
   "cell_type": "markdown",
   "metadata": {},
   "source": [
    "# Modelo em prática"
   ]
  },
  {
   "cell_type": "code",
   "execution_count": 17,
   "metadata": {},
   "outputs": [
    {
     "data": {
      "text/plain": [
       "array(['Physalis with Husk'], dtype='<U19')"
      ]
     },
     "execution_count": 17,
     "metadata": {},
     "output_type": "execute_result"
    }
   ],
   "source": [
    "real_test = imgsd(cv2.resize(cv2.imread('test3.jpg',1),(100,100))).reshape(1,-1)\n",
    "\n",
    "fruit_clf.predict(real_test)"
   ]
  },
  {
   "cell_type": "markdown",
   "metadata": {},
   "source": [
    "# Dataset License"
   ]
  },
  {
   "cell_type": "markdown",
   "metadata": {},
   "source": [
    "MIT License\n",
    "\n",
    "Copyright (c) 2017-2018 Mihai Oltean, Horea Muresan\n",
    "\n",
    "Permission is hereby granted, free of charge, to any person obtaining a copy\n",
    "of this software and associated documentation files (the \"Software\"), to deal\n",
    "in the Software without restriction, including without limitation the rights\n",
    "to use, copy, modify, merge, publish, distribute, sublicense, and/or sell\n",
    "copies of the Software, and to permit persons to whom the Software is\n",
    "furnished to do so, subject to the following conditions:\n",
    "\n",
    "The above copyright notice and this permission notice shall be included in all\n",
    "copies or substantial portions of the Software.\n",
    "\n",
    "THE SOFTWARE IS PROVIDED \"AS IS\", WITHOUT WARRANTY OF ANY KIND, EXPRESS OR\n",
    "IMPLIED, INCLUDING BUT NOT LIMITED TO THE WARRANTIES OF MERCHANTABILITY,\n",
    "FITNESS FOR A PARTICULAR PURPOSE AND NONINFRINGEMENT. IN NO EVENT SHALL THE\n",
    "AUTHORS OR COPYRIGHT HOLDERS BE LIABLE FOR ANY CLAIM, DAMAGES OR OTHER\n",
    "LIABILITY, WHETHER IN AN ACTION OF CONTRACT, TORT OR OTHERWISE, ARISING FROM,\n",
    "OUT OF OR IN CONNECTION WITH THE SOFTWARE OR THE USE OR OTHER DEALINGS IN THE\n",
    "SOFTWARE."
   ]
  },
  {
   "cell_type": "markdown",
   "metadata": {},
   "source": [
    "# Conclusão"
   ]
  },
  {
   "cell_type": "markdown",
   "metadata": {},
   "source": [
    "oi"
   ]
  }
 ],
 "metadata": {
  "kernelspec": {
   "display_name": "Python 3",
   "language": "python",
   "name": "python3"
  },
  "language_info": {
   "codemirror_mode": {
    "name": "ipython",
    "version": 3
   },
   "file_extension": ".py",
   "mimetype": "text/x-python",
   "name": "python",
   "nbconvert_exporter": "python",
   "pygments_lexer": "ipython3",
   "version": "3.6.5"
  }
 },
 "nbformat": 4,
 "nbformat_minor": 2
}
