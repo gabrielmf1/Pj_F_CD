{
 "cells": [
  {
   "cell_type": "code",
   "execution_count": 11,
   "metadata": {},
   "outputs": [],
   "source": [
    "import pandas as pd\n",
    "import cv2"
   ]
  },
  {
   "cell_type": "code",
   "execution_count": 12,
   "metadata": {},
   "outputs": [],
   "source": [
    "class Fruits:\n",
    "    def __init__(self):\n",
    "        self.images = []\n",
    "        self.target = []\n",
    "    def addfruit(self,fruit_name):\n",
    "        # O nome das imagens era sempre x_100.jpg ou r_x_100.jpg ou r2_x_100.jpg com x entre 0 e 350.\n",
    "        n = 0\n",
    "        for c in range(350): #350 foi escolhido pois não havia nenhuma imagem que passasse de 350\n",
    "            img = cv2.imread('fruits/fruits-360/Training/{0}/{1}_100.jpg'.format(fruit_name,c),1) \n",
    "            if type(img) != type(None): # Alguns valores de x eram pulados, portanto isso limpa os \"None\" da lista\n",
    "                self.images.append(img)\n",
    "                n+=1\n",
    "        for c in range(350):\n",
    "            img = cv2.imread('fruits/fruits-360/Training/{0}/r_{1}_100.jpg'.format(fruit_name,c),1)\n",
    "            if type(img) != type(None):\n",
    "                self.images.append(img)\n",
    "                n+=1\n",
    "        for c in range(350):\n",
    "            img = cv2.imread('fruits/fruits-360/Training/{0}/r2_{1}_100.jpg'.format(fruit_name,c),1)\n",
    "            if type(img) != type(None):\n",
    "                self.images.append(img)\n",
    "                n+=1\n",
    "        for c in range(n):\n",
    "            self.target.append(fruit_name)"
   ]
  },
  {
   "cell_type": "code",
   "execution_count": 18,
   "metadata": {},
   "outputs": [],
   "source": [
    "fruits_to_be_added = [\"Lemon\",\"Banana\",\"Cocos\"]"
   ]
  },
  {
   "cell_type": "code",
   "execution_count": 19,
   "metadata": {},
   "outputs": [
    {
     "data": {
      "text/plain": [
       "0"
      ]
     },
     "execution_count": 19,
     "metadata": {},
     "output_type": "execute_result"
    }
   ],
   "source": [
    "fruits = Fruits()\n",
    "for c in fruits_to_be_added:\n",
    "    fruits.addfruit(c)\n",
    "len(fruits.images)"
   ]
  },
  {
   "cell_type": "code",
   "execution_count": 16,
   "metadata": {},
   "outputs": [
    {
     "data": {
      "text/plain": [
       "(0, 2)"
      ]
     },
     "execution_count": 16,
     "metadata": {},
     "output_type": "execute_result"
    }
   ],
   "source": [
    "images_and_targets = list(zip(fruits.images,fruits.target))\n",
    "df = pd.DataFrame(data = images_and_targets, columns=['Images','Targets'])\n",
    "df.shape"
   ]
  }
 ],
 "metadata": {
  "kernelspec": {
   "display_name": "Python 3",
   "language": "python",
   "name": "python3"
  },
  "language_info": {
   "codemirror_mode": {
    "name": "ipython",
    "version": 3
   },
   "file_extension": ".py",
   "mimetype": "text/x-python",
   "name": "python",
   "nbconvert_exporter": "python",
   "pygments_lexer": "ipython3",
   "version": "3.6.4"
  }
 },
 "nbformat": 4,
 "nbformat_minor": 2
}
