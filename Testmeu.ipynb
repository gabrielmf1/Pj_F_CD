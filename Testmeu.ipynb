{
 "cells": [
  {
   "cell_type": "code",
   "execution_count": 1,
   "metadata": {},
   "outputs": [],
   "source": [
    "import pandas as pd\n",
    "import cv2"
   ]
  },
  {
   "cell_type": "code",
   "execution_count": 2,
   "metadata": {},
   "outputs": [],
   "source": [
    "class Fruits:\n",
    "    def __init__(self):\n",
    "        self.train_images = []\n",
    "        self.train_target = []\n",
    "        self.test_images = []\n",
    "        self.test_target = []\n",
    "    def addfruit(self,fruit_name):\n",
    "        # O nome das imagens era sempre x_100.jpg ou r_x_100.jpg ou r2_x_100.jpg com x entre 0 e 350.\n",
    "        n = 0\n",
    "        m = 0\n",
    "        for c in range(350): #350 foi escolhido pois não havia nenhuma imagem que passasse de 350\n",
    "            \n",
    "            # Train images\n",
    "            \n",
    "            img = cv2.imread('fruits/fruits-360/Training/{0}/{1}_100.jpg'.format(fruit_name,c),0)\n",
    "            img_r = cv2.imread('fruits/fruits-360/Training/{0}/r_{1}_100.jpg'.format(fruit_name,c),0)\n",
    "            img_r2 = cv2.imread('fruits/fruits-360/Training/{0}/r2_{1}_100.jpg'.format(fruit_name,c),0)\n",
    "            if type(img) != type(None): # Alguns valores de x eram pulados, portanto isso limpa os \"None\" da lista\n",
    "                self.train_images.append(img)\n",
    "                n+=1\n",
    "            if type(img_r) != type(None):\n",
    "                self.train_images.append(img_r)\n",
    "                n+=1\n",
    "            if type(img_r2) != type(None):\n",
    "                self.train_images.append(img_r2)\n",
    "                n+=1\n",
    "                \n",
    "            # Test images\n",
    "                \n",
    "            test_img = cv2.imread('fruits/fruits-360/Test/{0}/{1}_100.jpg'.format(fruit_name,c),0)\n",
    "            test_img_r = cv2.imread('fruits/fruits-360/Test/{0}/r_{1}_100.jpg'.format(fruit_name,c),0)\n",
    "            test_img_r2 = cv2.imread('fruits/fruits-360/Test/{0}/r2_{1}_100.jpg'.format(fruit_name,c),0)\n",
    "            if type(test_img) != type(None):\n",
    "                self.test_images.append(test_img)\n",
    "                m+=1\n",
    "            if type(test_img_r) != type(None):\n",
    "                self.test_images.append(test_img_r)\n",
    "                m+=1\n",
    "            if type(test_img_r2) != type(None):\n",
    "                self.test_images.append(test_img_r2)\n",
    "                m+=1\n",
    "                \n",
    "        # Targets\n",
    "                \n",
    "        for c in range(n):\n",
    "            self.train_target.append(fruit_name)\n",
    "        for c in range(m):\n",
    "            self.test_target.append(fruit_name)\n",
    "            \n"
   ]
  },
  {
   "cell_type": "code",
   "execution_count": 3,
   "metadata": {},
   "outputs": [],
   "source": [
    "fruits_to_be_added = [\"Lemon\",\"Banana\",\"Cocos\"]"
   ]
  },
  {
   "cell_type": "code",
   "execution_count": 7,
   "metadata": {},
   "outputs": [],
   "source": [
    "fruits = Fruits()\n",
    "for c in fruits_to_be_added:\n",
    "    fruits.addfruit(c)"
   ]
  },
  {
   "cell_type": "code",
   "execution_count": 12,
   "metadata": {},
   "outputs": [
    {
     "data": {
      "text/plain": [
       "(496, 2)"
      ]
     },
     "execution_count": 12,
     "metadata": {},
     "output_type": "execute_result"
    }
   ],
   "source": [
    "train_images_and_targets = list(zip(fruits.train_images, fruits.train_target))\n",
    "test_images_and_targets = list(zip(fruits.test_images, fruits.test_target))\n",
    "train_df = pd.DataFrame(data = train_images_and_targets, columns=['Images','Targets'])\n",
    "test_df = pd.DataFrame(data = test_images_and_targets, columns=['Images','Targets'])"
   ]
  }
 ],
 "metadata": {
  "kernelspec": {
   "display_name": "Python 3",
   "language": "python",
   "name": "python3"
  },
  "language_info": {
   "codemirror_mode": {
    "name": "ipython",
    "version": 3
   },
   "file_extension": ".py",
   "mimetype": "text/x-python",
   "name": "python",
   "nbconvert_exporter": "python",
   "pygments_lexer": "ipython3",
   "version": "3.6.4"
  }
 },
 "nbformat": 4,
 "nbformat_minor": 2
}
