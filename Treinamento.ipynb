{
 "cells": [
  {
   "cell_type": "code",
   "execution_count": null,
   "metadata": {},
   "outputs": [],
   "source": [
    "#imports\n",
    "from sklearn.linear_model import SGDClassifier"
   ]
  },
  {
   "cell_type": "code",
   "execution_count": null,
   "metadata": {},
   "outputs": [],
   "source": [
    "#treinamento\n",
    "X_train = train_df['Images']\n",
    "y_train = train_df['Target']\n",
    "\n",
    "#teste\n",
    "X_test = test_df['Images']\n",
    "y_test = test_df['Target']"
   ]
  },
  {
   "cell_type": "code",
   "execution_count": null,
   "metadata": {},
   "outputs": [],
   "source": [
    "# checando se a leitura de dados funciona:\n",
    "rand = X_train[800]\n",
    "rand_label = y_train[800]\n",
    "\n",
    "print('label: {}'.format(rand_label))\n",
    "rand_image = rand.reshape(100, 100) \n",
    "#plot\n",
    "plt.imshow(rand_image, cmap=matplotlib.cm.binary, interpolation='nearest')\n",
    "plt.show()"
   ]
  },
  {
   "cell_type": "code",
   "execution_count": null,
   "metadata": {},
   "outputs": [],
   "source": [
    "#shufflelando\n",
    "shuffle_index = np.random.permutation(60000)\n",
    "X_train = X_train[shuffle_index]\n",
    "y_train = y_train[shuffle_index]"
   ]
  },
  {
   "cell_type": "code",
   "execution_count": null,
   "metadata": {},
   "outputs": [],
   "source": [
    "#binaria classification \n",
    "y_train_lemon = (y_train == 'Lemon')\n",
    "y_test_lemon = (y_test == 'Lemon')\n",
    "\n",
    "n = 20 \n",
    "for original, binarized in zip(y_train[:n], y_train_lemon[:n]):\n",
    "    print('{} -> {}'.format(original, binarized))"
   ]
  },
  {
   "cell_type": "code",
   "execution_count": null,
   "metadata": {},
   "outputs": [],
   "source": [
    "#SGDClassifier\n",
    "sgd_clf = SGDClassifier(max_iter=5, tol=None, random_state=RANDOM_SEED)  \n",
    "sgd_clf.fit(X_train, y_train_lemon)\n",
    "sgd_clf.predict([rand])                   \n",
    "           "
   ]
  },
  {
   "cell_type": "code",
   "execution_count": null,
   "metadata": {},
   "outputs": [],
   "source": [
    "#testando a acuracia\n",
    "y_pred = sgd_clf.predict(X_test)\n",
    "print('Acurácia: {}'.format(accuracy_score(y_test_lemon, y_pred)))\n"
   ]
  }
 ],
 "metadata": {
  "kernelspec": {
   "display_name": "Python 3",
   "language": "python",
   "name": "python3"
  },
  "language_info": {
   "codemirror_mode": {
    "name": "ipython",
    "version": 3
   },
   "file_extension": ".py",
   "mimetype": "text/x-python",
   "name": "python",
   "nbconvert_exporter": "python",
   "pygments_lexer": "ipython3",
   "version": "3.6.4"
  }
 },
 "nbformat": 4,
 "nbformat_minor": 2
}
