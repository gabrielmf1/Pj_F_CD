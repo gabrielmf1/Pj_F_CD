{
 "cells": [
  {
   "cell_type": "markdown",
   "metadata": {},
   "source": [
    "## Object detection\n"
   ]
  },
  {
   "cell_type": "code",
   "execution_count": 1,
   "metadata": {},
   "outputs": [],
   "source": [
    "from __future__ import division\n",
    "import cv2\n",
    "from matplotlib import pyplot as plt\n",
    "import numpy as np\n",
    "from math import cos, sin\n",
    "\n"
   ]
  },
  {
   "cell_type": "code",
   "execution_count": 2,
   "metadata": {},
   "outputs": [
    {
     "ename": "AttributeError",
     "evalue": "module 'cv2.cv2' has no attribute 'ctvColor'",
     "output_type": "error",
     "traceback": [
      "\u001b[1;31m---------------------------------------------------------------------------\u001b[0m",
      "\u001b[1;31mAttributeError\u001b[0m                            Traceback (most recent call last)",
      "\u001b[1;32m<ipython-input-2-900e0f18df93>\u001b[0m in \u001b[0;36m<module>\u001b[1;34m()\u001b[0m\n\u001b[0;32m     74\u001b[0m \u001b[1;31m#lendo a imagem\u001b[0m\u001b[1;33m\u001b[0m\u001b[1;33m\u001b[0m\u001b[0m\n\u001b[0;32m     75\u001b[0m \u001b[0mimage\u001b[0m \u001b[1;33m=\u001b[0m \u001b[0mcv2\u001b[0m\u001b[1;33m.\u001b[0m\u001b[0mimread\u001b[0m\u001b[1;33m(\u001b[0m\u001b[1;34m'berry.jpg'\u001b[0m\u001b[1;33m)\u001b[0m\u001b[1;33m\u001b[0m\u001b[0m\n\u001b[1;32m---> 76\u001b[1;33m \u001b[0mresult\u001b[0m \u001b[1;33m=\u001b[0m \u001b[0mfind_strawberry\u001b[0m\u001b[1;33m(\u001b[0m\u001b[0mimage\u001b[0m\u001b[1;33m)\u001b[0m\u001b[1;33m\u001b[0m\u001b[0m\n\u001b[0m\u001b[0;32m     77\u001b[0m \u001b[0mcv2\u001b[0m\u001b[1;33m.\u001b[0m\u001b[0mimwrite\u001b[0m\u001b[1;33m(\u001b[0m\u001b[1;34m'berry2.jpg'\u001b[0m\u001b[1;33m,\u001b[0m \u001b[0mresult\u001b[0m\u001b[1;33m)\u001b[0m\u001b[1;33m\u001b[0m\u001b[0m\n\u001b[0;32m     78\u001b[0m \u001b[1;33m\u001b[0m\u001b[0m\n",
      "\u001b[1;32m<ipython-input-2-900e0f18df93>\u001b[0m in \u001b[0;36mfind_strawberry\u001b[1;34m(image)\u001b[0m\n\u001b[0;32m     37\u001b[0m     \u001b[1;31m#Passo 3: limpando a imagem\u001b[0m\u001b[1;33m\u001b[0m\u001b[1;33m\u001b[0m\u001b[0m\n\u001b[0;32m     38\u001b[0m     \u001b[0mimage_blur\u001b[0m \u001b[1;33m=\u001b[0m \u001b[0mcv2\u001b[0m\u001b[1;33m.\u001b[0m\u001b[0mGaussianBlur\u001b[0m\u001b[1;33m(\u001b[0m\u001b[0mimage\u001b[0m\u001b[1;33m,\u001b[0m \u001b[1;33m(\u001b[0m\u001b[1;36m7\u001b[0m\u001b[1;33m,\u001b[0m\u001b[1;36m7\u001b[0m\u001b[1;33m)\u001b[0m\u001b[1;33m,\u001b[0m \u001b[1;36m0\u001b[0m\u001b[1;33m)\u001b[0m\u001b[1;33m\u001b[0m\u001b[0m\n\u001b[1;32m---> 39\u001b[1;33m     \u001b[0mimage_blur_hsv\u001b[0m \u001b[1;33m=\u001b[0m \u001b[0mcv2\u001b[0m\u001b[1;33m.\u001b[0m\u001b[0mctvColor\u001b[0m\u001b[1;33m(\u001b[0m\u001b[0mimage_blur\u001b[0m\u001b[1;33m,\u001b[0m \u001b[0mcv2\u001b[0m\u001b[1;33m.\u001b[0m\u001b[0mCOLOR_RGB2HSV\u001b[0m\u001b[1;33m)\u001b[0m\u001b[1;33m\u001b[0m\u001b[0m\n\u001b[0m\u001b[0;32m     40\u001b[0m \u001b[1;33m\u001b[0m\u001b[0m\n\u001b[0;32m     41\u001b[0m     \u001b[1;31m#Passo 4: definindo nossos filtros(cor)\u001b[0m\u001b[1;33m\u001b[0m\u001b[1;33m\u001b[0m\u001b[0m\n",
      "\u001b[1;31mAttributeError\u001b[0m: module 'cv2.cv2' has no attribute 'ctvColor'"
     ]
    }
   ],
   "source": [
    "green = (0, 255, 0)\n",
    "\n",
    "def show(image):\n",
    "    plt.figure(figsize=(10,10))\n",
    "    plt.imshow(image, interpolation='nearest')\n",
    "    \n",
    "def overlay_mask(mask, image):\n",
    "    rgb_mask = cv2.cvtColor(mask, cv2.COLOR_GRAY2RGB)\n",
    "    img = cv2.addWeighted(rgb_mask, 0.5, image, 0.5, 0)\n",
    "    return img\n",
    "\n",
    "def find_biggest_countour(image):\n",
    "    image = image.copy()\n",
    "    contours, hierarchy = cv2.findCountours(image, cv2.RETR_LIST, cv2.CHAIN_APPROX_SIMPLE)\n",
    "    contour_sizes = [{cv2.contourArea(contour), contour}for contour in contours]\n",
    "    biggest_contour = max(contour_sizes, key=lambda x: x[0])[1]\n",
    "    mask = np.zeros(image.shape, np.unit8)\n",
    "    cv2.drawContours(mask, [biggest_contour], -1, 255, -1)\n",
    "    return biggest_contour, mask\n",
    "\n",
    "def circle_contour(image, contour):\n",
    "    image_with_ellipse = image.copy()\n",
    "    ellipse = cv2.fitEllipse(contour)\n",
    "    cv2.ellipse(image_with_ellipse, ellipse, green, 2, cv2.CV_AA)\n",
    "    return image_with_elipse\n",
    "\n",
    "def find_strawberry(image):\n",
    "   \n",
    "    #Passo 1: esquema de cor correto\n",
    "    image = cv2.cvtColor(image, cv2.COLOR_BGR2RGB)\n",
    "    \n",
    "    #Passo 2: tamanho correto\n",
    "    max_dimension = max(image.shape)\n",
    "    scale = 7000/max_dimension \n",
    "    image = cv2.resize(image, None, fx=scale, fy=scale)\n",
    "    \n",
    "    #Passo 3: limpando a imagem\n",
    "    image_blur = cv2.GaussianBlur(image, (7,7), 0)\n",
    "    image_blur_hsv = cv2.ctvColor(image_blur, cv2.COLOR_RGB2HSV)\n",
    "    \n",
    "    #Passo 4: definindo nossos filtros(cor)\n",
    "    #NAO ACHO QUE VAMOS USAR, AQUI ENTRA O MACHINE LEARNING\n",
    "    min_red = np.array([0, 100, 80])\n",
    "    max_red = np.array(10, 256, 256)\n",
    "    mask1 = cv2.inRange(image_blur_hsv, min_red, max_red)\n",
    "    #brilho\n",
    "    min_red2 = np.array(170, 100, 80)\n",
    "    max_red2 = np.array(180, 256, 256)\n",
    "    mask2 = cv2.inRange(image_blur_hsv, min_red2, max_red2)\n",
    "    \n",
    "    #combinando as mascaras \n",
    "    mask = mask1+mask2\n",
    "    \n",
    "    #Passo 5: segmentando\n",
    "    kernel = cv2.getStructuringElement(cv2.MORPH_ELLIPSE, (15,15))\n",
    "    mask_closed = cv2.morphologyEX(mask, cv2.MORPH_CLOSE, kernel)\n",
    "    mask_clean = cv2.morphologyEX(mask_closed, cv2.MORPH_OPEN, kernel)\n",
    "    \n",
    "    #Passo 6: achar o maior morango\n",
    "    big_strawberry_countor, mask_strawberries = find_biggest_contour(mask_clean)\n",
    "    \n",
    "    #Passo 7: overlay masks\n",
    "    overlay = overlay_mask(mask_clean, image)\n",
    "    \n",
    "    #Passo 8: circulando o maior morango\n",
    "    circled = circle_contour(overlay, big_strawberry_contour)\n",
    "    show(circle)\n",
    "    \n",
    "    #Passo 9: convertendo para a cor original\n",
    "    bgr = cv2.cvtColor(circled, cv2.COLOR_RGB2BRG)\n",
    "    \n",
    "    return bgr \n",
    "\n",
    "#lendo a imagem\n",
    "image = cv2.imread('berry.jpg')\n",
    "result = find_strawberry(image)\n",
    "cv2.imwrite('berry2.jpg', result)\n",
    "    "
   ]
  },
  {
   "cell_type": "code",
   "execution_count": null,
   "metadata": {},
   "outputs": [],
   "source": [
    "#https://www.youtube.com/watch?v=OnWIYI6-4Ss"
   ]
  }
 ],
 "metadata": {
  "kernelspec": {
   "display_name": "Python 3",
   "language": "python",
   "name": "python3"
  },
  "language_info": {
   "codemirror_mode": {
    "name": "ipython",
    "version": 3
   },
   "file_extension": ".py",
   "mimetype": "text/x-python",
   "name": "python",
   "nbconvert_exporter": "python",
   "pygments_lexer": "ipython3",
   "version": "3.6.4"
  }
 },
 "nbformat": 4,
 "nbformat_minor": 2
}
